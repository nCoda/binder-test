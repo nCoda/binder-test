{
 "cells": [
  {
   "cell_type": "markdown",
   "metadata": {},
   "source": [
    "# Managing score packages on the command-line\n",
    "\n",
    "Abjad comes with a number of *command-line tools* which are used outside of the Python interpreter to handle a variety of routine tasks, including:\n",
    "\n",
    "- Building Abjad's API documentation\n",
    "- Running *doctests* (documentation or *docstring* tests)\n",
    "- Collecting statistics on the code-base\n",
    "- Replacing strings\n",
    "- Removing junk and temporary files\n",
    "- Running *abjad-book* to embed notation in LaTeX\n",
    "\n",
    "These tools are grouped as subcommands under the umbrella of Abjad's `ajv` script.\n",
    "\n",
    "Like nearly all command-line tools, written in Python or not, we can pull up documentation about `ajv` by calling it with the `--help` flag.\n",
    "\n",
    "**Note:** The \"`!`\" prefix here tells IPython to run the command not in _Python_ but in _Bash_."
   ]
  },
  {
   "cell_type": "code",
   "execution_count": 1,
   "metadata": {
    "collapsed": false
   },
   "outputs": [
    {
     "name": "stdout",
     "output_type": "stream",
     "text": [
      "usage: abj-dev [-h] [--version]\r\n",
      "               {help,list,api,book,build,clean,doctest,material,replace,score,segment,stats}\r\n",
      "               ...\r\n",
      "\r\n",
      "Entry-point to Abjad developer scripts catalog.\r\n",
      "\r\n",
      "optional arguments:\r\n",
      "  -h, --help            show this help message and exit\r\n",
      "  --version             show program's version number and exit\r\n",
      "\r\n",
      "subcommands:\r\n",
      "  {help,list,api,book,build,clean,doctest,material,replace,score,segment,stats}\r\n",
      "    help                print subcommand help\r\n",
      "    list                list subcommands\r\n",
      "    api                 Build the Abjad APIs.\r\n",
      "    book                Preprocess LaTeX files with Abjad.\r\n",
      "    build               Manage score package build targets.\r\n",
      "    clean               Clean *.pyc, *.swp, __pycache__ and tmp* files and\r\n",
      "                        folders from PATH.\r\n",
      "    doctest             Run doctests on all modules in current path.\r\n",
      "    material            Manage score package materials.\r\n",
      "    replace             Replace text.\r\n",
      "    score               Manage score packages.\r\n",
      "    segment             Manage score package segments.\r\n",
      "    stats               Build statistics about Python modules in PATH.\r\n"
     ]
    }
   ],
   "source": [
    "!ajv --help"
   ]
  },
  {
   "cell_type": "markdown",
   "metadata": {},
   "source": [
    "## Composition workflow\n",
    "\n",
    "The score project layout suggests a particular overall workflow for composing scores:\n",
    "\n",
    "- Create materials and segments\n",
    "- Edit materials and segments\n",
    "- Stage segments\n",
    "- Illustrate materials and segments\n",
    "- Collect segments illustrations into the build directory\n",
    "- Create a build target\n",
    "- Render a build target\n",
    "- Distribute (archive) build target assets\n",
    "\n",
    "This workflow is afforded by tools available either directly in your terminal, or implemented as subcommands of `ajv`:\n",
    "\n",
    "#### Creation tasks\n",
    "\n",
    "- Creating scores\n",
    "- Creating materials\n",
    "- Creating segments\n",
    "- Creating build targets\n",
    "\n",
    "#### Illustration tasks\n",
    "\n",
    "- Illustrating materials\n",
    "- Illustrating segments\n",
    "\n",
    "#### Segment-specific tasks\n",
    "\n",
    "- Staging segments\n",
    "- Collecting segments\n",
    "\n",
    "#### Rendering tasks\n",
    "\n",
    "- Rending materials\n",
    "- Rendering segments\n",
    "- Rendering build target assets\n",
    "\n",
    "#### File-system-management tasks\n",
    "\n",
    "- Renaming materials, segments and build targets\n",
    "- Copying materials, segments and build targets\n",
    "- Deleting materials, segments and build targets\n",
    "- Editing materials and segments"
   ]
  },
  {
   "cell_type": "markdown",
   "metadata": {},
   "source": [
    "## Managing scores"
   ]
  },
  {
   "cell_type": "code",
   "execution_count": 1,
   "metadata": {
    "collapsed": false
   },
   "outputs": [
    {
     "name": "stdout",
     "output_type": "stream",
     "text": [
      "usage: manage-score [-h] [--version] --new TITLE [--year YEAR]\r\n",
      "                    [--composer-name NAME] [--composer-email EMAIL]\r\n",
      "                    [--composer-github GITHUB_USERNAME]\r\n",
      "                    [--composer-library LIBRARY_NAME]\r\n",
      "                    [--composer-website WEBSITE] [--force]\r\n",
      "\r\n",
      "Manage score packages.\r\n",
      "\r\n",
      "optional arguments:\r\n",
      "  -h, --help            show this help message and exit\r\n",
      "  --version             show program's version number and exit\r\n",
      "\r\n",
      "actions:\r\n",
      "  --new TITLE, -N TITLE\r\n",
      "                        create a new score\r\n",
      "\r\n",
      "--new options:\r\n",
      "  --year YEAR, -y YEAR\r\n",
      "  --composer-name NAME, -n NAME\r\n",
      "  --composer-email EMAIL, -e EMAIL\r\n",
      "  --composer-github GITHUB_USERNAME, -g GITHUB_USERNAME\r\n",
      "  --composer-library LIBRARY_NAME, -l LIBRARY_NAME\r\n",
      "  --composer-website WEBSITE, -w WEBSITE\r\n",
      "\r\n",
      "common options:\r\n",
      "  --force, -f           force overwriting\r\n"
     ]
    }
   ],
   "source": [
    "!ajv score --help"
   ]
  },
  {
   "cell_type": "markdown",
   "metadata": {},
   "source": [
    "#### To create a new score\n",
    "\n",
    "```\n",
    "ajv score --new \"My Score\" \\\n",
    "    --year 2016 \\\n",
    "    --composer-name \"Jane Doe Composer\" \\\n",
    "    --composer-email \"composer@composer.com\" \\\n",
    "    --composer-github \"jdcomposer\" \\\n",
    "    --composer-library \"my_library\" \\\n",
    "    --composer-website \"composer.com\"\n",
    "```\n",
    "\n",
    "#### Make sure to install that score as a Python package\n",
    "\n",
    "```\n",
    "cd my_score\n",
    "pip install -e .\n",
    "```"
   ]
  },
  {
   "cell_type": "markdown",
   "metadata": {},
   "source": [
    "## Working inside a score\n",
    "\n",
    "When using the commands `ajv material`, `ajv segment` and `ajv target`, you need to let them know what score you want to operate upon. You can either pass in the name of a score package installed in your system, or you can simply work from _within_ the score package directory itself - `ajv` is clever enough to figure out that there's a score there.\n",
    "\n",
    "To be explicit:\n",
    "\n",
    "```\n",
    "ajv segment --list -s my_score\n",
    "```\n",
    "\n",
    "To be implicit:\n",
    "\n",
    "```\n",
    "cd my_score\n",
    "ajv segment --list\n",
    "```"
   ]
  },
  {
   "cell_type": "markdown",
   "metadata": {},
   "source": [
    "## Managing materials"
   ]
  },
  {
   "cell_type": "code",
   "execution_count": 5,
   "metadata": {
    "collapsed": false
   },
   "outputs": [
    {
     "name": "stdout",
     "output_type": "stream",
     "text": [
      "usage: manage-material [-h] [--version]\r\n",
      "                       (--new NAME | --edit PATTERN [PATTERN ...] | --illustrate PATTERN [PATTERN ...] | --render PATTERN [PATTERN ...] | --list)\r\n",
      "                       [--score-path SCORE] [--force]\r\n",
      "\r\n",
      "Manage score package materials.\r\n",
      "\r\n",
      "optional arguments:\r\n",
      "  -h, --help            show this help message and exit\r\n",
      "  --version             show program's version number and exit\r\n",
      "\r\n",
      "actions:\r\n",
      "  --new NAME, -N NAME   create a new material\r\n",
      "  --edit PATTERN [PATTERN ...], -E PATTERN [PATTERN ...]\r\n",
      "                        edit materials\r\n",
      "  --illustrate PATTERN [PATTERN ...], -I PATTERN [PATTERN ...]\r\n",
      "                        illustrate materials\r\n",
      "  --render PATTERN [PATTERN ...], -R PATTERN [PATTERN ...]\r\n",
      "                        render material illustrations\r\n",
      "  --list, -L            list materials\r\n",
      "\r\n",
      "common options:\r\n",
      "  --score-path SCORE, -s SCORE\r\n",
      "                        score path or package name\r\n",
      "  --force, -f           force overwriting\r\n"
     ]
    }
   ],
   "source": [
    "!ajv material --help"
   ]
  },
  {
   "cell_type": "markdown",
   "metadata": {},
   "source": [
    "#### To create a material\n",
    "\n",
    "```\n",
    "ajv material --new my_material_name\n",
    "```\n",
    "\n",
    "#### To edit a material\n",
    "\n",
    "```\n",
    "ajv material --edit my_material_name\n",
    "```\n",
    "\n",
    "#### To illustrate a material\n",
    "\n",
    "```\n",
    "ajv material --illustrate my_material_name\n",
    "```"
   ]
  },
  {
   "cell_type": "markdown",
   "metadata": {},
   "source": [
    "## Managing score segments"
   ]
  },
  {
   "cell_type": "code",
   "execution_count": 3,
   "metadata": {
    "collapsed": false
   },
   "outputs": [
    {
     "name": "stdout",
     "output_type": "stream",
     "text": [
      "usage: manage-segment [-h] [--version]\r\n",
      "                      (--new NAME | --edit [PATTERN [PATTERN ...]] | --illustrate PATTERN [PATTERN ...] | --render PATTERN [PATTERN ...] | --collect | --stage | --list)\r\n",
      "                      [--score-path SCORE] [--force] [-u]\r\n",
      "\r\n",
      "Manage score package segments.\r\n",
      "\r\n",
      "optional arguments:\r\n",
      "  -h, --help            show this help message and exit\r\n",
      "  --version             show program's version number and exit\r\n",
      "\r\n",
      "actions:\r\n",
      "  --new NAME, -N NAME   create a new segment\r\n",
      "  --edit [PATTERN [PATTERN ...]], -E [PATTERN [PATTERN ...]]\r\n",
      "                        edit segments\r\n",
      "  --illustrate PATTERN [PATTERN ...], -I PATTERN [PATTERN ...]\r\n",
      "                        illustrate segments\r\n",
      "  --render PATTERN [PATTERN ...], -R PATTERN [PATTERN ...]\r\n",
      "                        render segment illustrations\r\n",
      "  --collect, -C         collect segment illustrations\r\n",
      "  --stage, -T           stage segments for illustration\r\n",
      "  --list, -L            list segments\r\n",
      "\r\n",
      "common options:\r\n",
      "  --score-path SCORE, -s SCORE\r\n",
      "                        score path or package name\r\n",
      "  --force, -f           force overwriting\r\n",
      "  -u, --unstaged        Include segments not staged in segments/metadata.json\r\n"
     ]
    }
   ],
   "source": [
    "!ajv segment --help"
   ]
  },
  {
   "cell_type": "markdown",
   "metadata": {},
   "source": [
    "## Managing build targets"
   ]
  },
  {
   "cell_type": "code",
   "execution_count": 4,
   "metadata": {
    "collapsed": false
   },
   "outputs": [
    {
     "name": "stdout",
     "output_type": "stream",
     "text": [
      "usage: manage-build-target [-h] [--version]\r\n",
      "                           (--new [NAME] | --render NAME | --distribute NAME | --list)\r\n",
      "                           [--front-cover] [--back-cover] [--preface]\r\n",
      "                           [--score] [--music] [--parts]\r\n",
      "                           [--paper-size PAPER_SIZE]\r\n",
      "                           [--orientation ORIENTATION] [--score-path SCORE]\r\n",
      "                           [--force]\r\n",
      "\r\n",
      "Manage score package build targets.\r\n",
      "\r\n",
      "optional arguments:\r\n",
      "  -h, --help            show this help message and exit\r\n",
      "  --version             show program's version number and exit\r\n",
      "\r\n",
      "actions:\r\n",
      "  --new [NAME], -N [NAME]\r\n",
      "                        create a new build target\r\n",
      "  --render NAME, -R NAME\r\n",
      "                        render sources\r\n",
      "  --distribute NAME, -U NAME\r\n",
      "                        stage build artifacts for distribution\r\n",
      "  --list, -L            list build targets\r\n",
      "\r\n",
      "--render flags:\r\n",
      "  Use when rendering specific assets only.\r\n",
      "\r\n",
      "  --front-cover         render the front cover LaTeX source\r\n",
      "  --back-cover          render the back cover LaTeX source\r\n",
      "  --preface             render the preface LaTeX source\r\n",
      "  --score               render the aggregate score LaTeX source\r\n",
      "  --music               render the music LilyPond source\r\n",
      "  --parts               render the parts LilyPond source\r\n",
      "\r\n",
      "--new options:\r\n",
      "  --paper-size PAPER_SIZE\r\n",
      "                        select new build target paper size\r\n",
      "  --orientation ORIENTATION\r\n",
      "                        select new build target orientation\r\n",
      "\r\n",
      "common options:\r\n",
      "  --score-path SCORE, -s SCORE\r\n",
      "                        score path or package name\r\n",
      "  --force, -f           force overwriting\r\n"
     ]
    }
   ],
   "source": [
    "!ajv build --help"
   ]
  },
  {
   "cell_type": "code",
   "execution_count": null,
   "metadata": {
    "collapsed": true
   },
   "outputs": [],
   "source": []
  }
 ],
 "metadata": {
  "kernelspec": {
   "display_name": "Python 3",
   "language": "python",
   "name": "python3"
  },
  "language_info": {
   "codemirror_mode": {
    "name": "ipython",
    "version": 3
   },
   "file_extension": ".py",
   "mimetype": "text/x-python",
   "name": "python",
   "nbconvert_exporter": "python",
   "pygments_lexer": "ipython3",
   "version": "3.5.1"
  }
 },
 "nbformat": 4,
 "nbformat_minor": 0
}

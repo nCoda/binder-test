{
 "cells": [
  {
   "cell_type": "markdown",
   "metadata": {},
   "source": [
    "# How and why to structure a score project\n",
    "\n",
    "This is where we talk about how to setup a large score project for getting real-world work done, synthesizing all of our previous information about how Python, Abjad and LilyPond work together.\n",
    "\n",
    "Key points to keep in mind during this discussion.\n",
    "\n",
    "- Python code can be organized into module, packages and subpackages.\n",
    "- Python code can import other Python code.\n",
    "- Abjad (Python code) can generate LilyPond code.\n",
    "- LilyPond code can import other LilyPond code.\n",
    "- Settings in LilyPond _cascade_, much like CSS in web development.\n",
    "- LilyPond can concatenate like-named contexts together to create longer musical expressions.\n",
    "- LilyPond can extract music expressions using tags, allowing for easy part extraction.\n",
    "- A single LilyPond file can generate multiple PDFs as output.\n",
    "- LaTeX can combine multiple PDFs into a single PDF.\n",
    "\n",
    "#### LilyPond context concatenation\n",
    "\n",
    "LilyPond can _concatenate_ like-named contexts in adjacent music expressions. That's a mouthful. Let's look at an example:\n",
    "\n",
    "```\n",
    "\\score {\n",
    "    {\n",
    "        \\new Staff = \"My Staff\" { c'4 d'4 e'4 f'4 }\n",
    "        \\new Staff = \"My Staff\" { g'4 a'4 b'4 c''4 }\n",
    "    }\n",
    "}\n",
    "```\n",
    "\n",
    "The above - as far as LilyPond is concerned - is the equivalent of:\n",
    "\n",
    "```\n",
    "\\score {\n",
    "    {\n",
    "        \\new Staff = \"My Staff\" { c'4 d'4 e'4 f'4 g'4 a'4 b'4 c''4 }\n",
    "    }\n",
    "}\n",
    "```\n",
    "\n",
    "Why? Because the two adjacent `Staff` expressions both have the same name. Context concatenation is the main reason why we'll be using a `ScoreTemplate` class to generate the empty score we later fill in with music. By using the same class to generate the score skeleton, we guarantee that every context in the score is named correctly.\n",
    "\n",
    "#### Cascading LilyPond settings\n",
    "\n",
    "When you make settings in a LilyPond file (including any files included at any point in that file) those settings override previous settings. This is somewhat analogous to how CSS works. For example, if you set the title variable in a `\\header` block at the beginning of the file, you can override that title later without losing the other settings in the original header block.\n",
    "\n",
    "Consider the following:\n",
    "\n",
    "```\n",
    "\\header {\n",
    "    composer = \"Best Composer\"\n",
    "    title = \"My Great Piece\"\n",
    "    subtitle = \"A Very Fine Gigue\"\n",
    "}\n",
    "\n",
    "\\header {\n",
    "    title = \"My Adequate Piece\"\n",
    "}\n",
    "\n",
    "\\header {\n",
    "    subtitle = \"Visions of a Somber World\"\n",
    "}\n",
    "```\n",
    "\n",
    "At the end, the effective header settings are:\n",
    "\n",
    "```\n",
    "\\header {\n",
    "    composer = \"Best Composer\"\n",
    "    title = \"My Adequate Piece\"\n",
    "    subtitle = \"Visions of a Somber World\"\n",
    "}\n",
    "```\n",
    "\n",
    "#### LilyPond part extraction\n",
    "\n",
    "We can use LilyPond's `\\tag` and `\\keepWithTag` commands to label parts of our score and then keep only parts with certain labels when rendering a score. If we combine that with LilyPond's `\\book` block functionality, we can use a single LilyPond input file to generate one PDF per musician's part in our score. Easy.\n",
    "\n",
    "We'll see this in action in the interaction between the `ScoreTemplate` class, the `segments.ily` and `parts.ily` files in the `build/` directory, and the `parts.ly` file in the `build/letter-portrait/` directory.\n",
    "\n",
    "Consider the following LilyPond:\n",
    "\n",
    "```\n",
    "{\n",
    "    \\tag #'foo { c'4 d'4 e'4 f'4 }\n",
    "    \\tag #'bar { g'4 a'4 b'4 c''4 }\n",
    "}\n",
    "```\n",
    "\n",
    "Let's extract out only the music tagged `foo`:\n",
    "\n",
    "```\n",
    "\\keepWithTag #'foo\n",
    "{\n",
    "    \\tag #'foo { c'4 d'4 e'4 f'4 }\n",
    "    \\tag #'bar { g'4 a'4 b'4 c''4 }\n",
    "}\n",
    "```\n",
    "\n",
    "The above is actually equivalent to:\n",
    "\n",
    "```\n",
    "{\n",
    "    { c'4 d'4 e'4 f'4 }\n",
    "}\n",
    "```\n",
    "\n",
    "We can use this same principle to extract out the cello part from a string quarter!\n",
    "\n",
    "#### Externalized LilyPond typographic overrides: why, again?\n",
    "\n",
    "Depending on the complexity of the operations you're performing in Python with Abjad to create a score object, it might take a while to generate a chunk of score. If you only need to tweak the length of your stems, why go through that trouble of re-computing the whole score?\n",
    "\n",
    "Even though Abjad affords you the ability to override typographic settings, sometimes it's easier to just write those settings out - especially if they're global settings - in an external LilyPond file and then include that file.\n",
    "\n",
    "Then, making global typographic changes is as simple as editing your external stylesheet and re-rendering (not re-computing) the previously rendederd illustration."
   ]
  },
  {
   "cell_type": "markdown",
   "metadata": {},
   "source": [
    "## The score repository directory\n",
    "\n",
    "If scores are built from code, let's structure them just like we would structure any other code: as an installable package.\n",
    "\n",
    "**Note:** We'll use the command-line tool `tree` to pretty-print directory structures. The `-a` flag means \"show hidden files\". The `-F` flag causes `tree` to append special characters like `/` to indicate directories. The `-L 1` flag tells `tree` to only drill down one level deep. You can install `tree` on OSX via HomeBrew."
   ]
  },
  {
   "cell_type": "code",
   "execution_count": 1,
   "metadata": {
    "collapsed": false
   },
   "outputs": [
    {
     "name": "stdout",
     "output_type": "stream",
     "text": [
      "trio_score/\r\n",
      "├── .gitignore\r\n",
      "├── .travis.yml\r\n",
      "├── README.md\r\n",
      "├── requirements.txt\r\n",
      "├── setup.cfg\r\n",
      "├── setup.py\r\n",
      "├── trio_score/\r\n",
      "└── trio_score.egg-info/\r\n",
      "\r\n",
      "2 directories, 6 files\r\n"
     ]
    }
   ],
   "source": [
    "!tree -a -F -L 1 trio_score/"
   ]
  },
  {
   "cell_type": "markdown",
   "metadata": {},
   "source": [
    "## The score package directory\n",
    "\n",
    "The inner directory holds the actual code and assets that make up a score project."
   ]
  },
  {
   "cell_type": "code",
   "execution_count": 2,
   "metadata": {
    "collapsed": false
   },
   "outputs": [
    {
     "name": "stdout",
     "output_type": "stream",
     "text": [
      "trio_score/trio_score/\r\n",
      "├── Makefile\r\n",
      "├── __init__.py\r\n",
      "├── __pycache__/\r\n",
      "├── build/\r\n",
      "├── distribution/\r\n",
      "├── etc/\r\n",
      "├── materials/\r\n",
      "├── segments/\r\n",
      "├── stylesheets/\r\n",
      "├── test/\r\n",
      "└── tools/\r\n",
      "\r\n",
      "9 directories, 2 files\r\n"
     ]
    }
   ],
   "source": [
    "!tree -a -F -L 1 trio_score/trio_score/"
   ]
  },
  {
   "cell_type": "markdown",
   "metadata": {},
   "source": [
    "## Materials\n",
    "\n",
    "Materials are objects that exist \"outside-of-time\". In practice, this generally means configured classes, e.g. rhythm-makers, that you intend to use in various parts of your music. Typically, materials can be _illustrated_: the material's class implements Abjad's _illustration_ protocol via the `__illustrate__()` method."
   ]
  },
  {
   "cell_type": "code",
   "execution_count": 3,
   "metadata": {
    "collapsed": false
   },
   "outputs": [
    {
     "name": "stdout",
     "output_type": "stream",
     "text": [
      "trio_score/trio_score/materials/\r\n",
      "├── __init__.py\r\n",
      "├── __pycache__/\r\n",
      "├── my_fast_rhythm_maker/\r\n",
      "├── my_pitches/\r\n",
      "└── my_slow_rhythm_maker/\r\n",
      "\r\n",
      "4 directories, 1 file\r\n"
     ]
    }
   ],
   "source": [
    "!tree -F -L 1 trio_score/trio_score/materials/"
   ]
  },
  {
   "cell_type": "code",
   "execution_count": 4,
   "metadata": {
    "collapsed": false
   },
   "outputs": [
    {
     "name": "stdout",
     "output_type": "stream",
     "text": [
      "trio_score/trio_score/materials/my_fast_rhythm_maker/\r\n",
      "├── __init__.py\r\n",
      "├── __pycache__/\r\n",
      "├── definition.py\r\n",
      "├── illustration.ly\r\n",
      "└── illustration.pdf\r\n",
      "\r\n",
      "1 directory, 4 files\r\n"
     ]
    }
   ],
   "source": [
    "!tree -F -L 1 trio_score/trio_score/materials/my_fast_rhythm_maker/"
   ]
  },
  {
   "cell_type": "code",
   "execution_count": 5,
   "metadata": {
    "collapsed": false
   },
   "outputs": [
    {
     "name": "stdout",
     "output_type": "stream",
     "text": [
      "# -*- encoding: utf-8 -*-\r\n",
      "import os\r\n",
      "import abjad\r\n",
      "\r\n",
      "\r\n",
      "my_fast_rhythm_maker = abjad.rhythmmakertools.TaleaRhythmMaker(\r\n",
      "    extra_counts_per_division=[0, 0, 1, 0, 1, 2],\r\n",
      "    talea=abjad.rhythmmakertools.Talea(\r\n",
      "        counts=[1, 1, 2, 3, -1, 4, 1, 1, 2],\r\n",
      "        denominator=16,\r\n",
      "        ),\r\n",
      "    tie_specifier=abjad.rhythmmakertools.TieSpecifier(\r\n",
      "        tie_across_divisions=[True, False],\r\n",
      "        ),\r\n",
      "    )\r\n",
      "\r\n",
      "\r\n",
      "if __name__ == '__main__':\r\n",
      "    illustration_path = os.path.join(\r\n",
      "        os.path.dirname(__file__),\r\n",
      "        'illustration.pdf',\r\n",
      "        )\r\n",
      "    abjad.persist(my_fast_rhythm_maker).as_pdf(illustration_path)\r\n",
      "    abjad.systemtools.IOManager.open_file(illustration_path)\r\n"
     ]
    }
   ],
   "source": [
    "!cat trio_score/trio_score/materials/my_fast_rhythm_maker/definition.py"
   ]
  },
  {
   "cell_type": "markdown",
   "metadata": {},
   "source": [
    "What's that strange block at the bottom of the material `definition.py`? The conditional expression `if __name__ == 'main':` tells Python to execute the following suite if and only if the module is being executed as a script. That means, by running this definition file via `python definition.py`, we'll illustrate the material defined in the module, render that illustration as a PDF, and then pop open that PDF."
   ]
  },
  {
   "cell_type": "markdown",
   "metadata": {},
   "source": [
    "## Tools\n",
    "\n",
    "Tools are any custom classes or functions you use in your score project. Often this is simply a `ScoreTemplate` and `SegmentMaker` class."
   ]
  },
  {
   "cell_type": "code",
   "execution_count": 7,
   "metadata": {
    "collapsed": false,
    "scrolled": true
   },
   "outputs": [
    {
     "name": "stdout",
     "output_type": "stream",
     "text": [
      "trio_score/trio_score/tools/\r\n",
      "├── ScoreTemplate.py\r\n",
      "├── SegmentMaker.py\r\n",
      "├── __init__.py\r\n",
      "└── __pycache__/\r\n",
      "    ├── ScoreTemplate.cpython-35.pyc\r\n",
      "    ├── SegmentMaker.cpython-35.pyc\r\n",
      "    └── __init__.cpython-35.pyc\r\n",
      "\r\n",
      "1 directory, 6 files\r\n"
     ]
    }
   ],
   "source": [
    "!tree -F trio_score/trio_score/tools/"
   ]
  },
  {
   "cell_type": "code",
   "execution_count": 8,
   "metadata": {
    "collapsed": false,
    "scrolled": true
   },
   "outputs": [
    {
     "name": "stdout",
     "output_type": "stream",
     "text": [
      "# -*- coding: utf-8 -*-\r\n",
      "from abjad import Clef\r\n",
      "from abjad import Score\r\n",
      "from abjad import Staff\r\n",
      "from abjad import StaffGroup\r\n",
      "from abjad import Voice\r\n",
      "from abjad import attach\r\n",
      "from abjad import instrumenttools\r\n",
      "from abjad.tools.indicatortools import LilyPondCommand\r\n",
      "\r\n",
      "\r\n",
      "class ScoreTemplate(object):\r\n",
      "\r\n",
      "    def __call__(self):\r\n",
      "        # Violin\r\n",
      "        violin_staff = Staff(\r\n",
      "            [Voice(name='Violin Voice')],\r\n",
      "            name='Violin Staff',\r\n",
      "            context_name='ViolinStaff',\r\n",
      "            )\r\n",
      "        violin_tag = LilyPondCommand(r\"tag #'violin\", format_slot='before')\r\n",
      "        attach(violin_tag, violin_staff)\r\n",
      "        attach(Clef('treble'), violin_staff)\r\n",
      "        attach(instrumenttools.Violin(), violin_staff)\r\n",
      "        # Viola\r\n",
      "        viola_staff = Staff(\r\n",
      "            [Voice(name='Viola Voice')],\r\n",
      "            name='Viola Staff',\r\n",
      "            context_name='ViolaStaff',\r\n",
      "            )\r\n",
      "        viola_tag = LilyPondCommand(r\"tag #'viola\", format_slot='before')\r\n",
      "        attach(viola_tag, viola_staff)\r\n",
      "        attach(Clef('alto'), viola_staff)\r\n",
      "        attach(instrumenttools.Viola(), viola_staff)\r\n",
      "        # Cello\r\n",
      "        cello_staff = Staff(\r\n",
      "            [Voice(name='Cello Voice')],\r\n",
      "            name='Cello Staff',\r\n",
      "            context_name='CelloStaff',\r\n",
      "            )\r\n",
      "        cello_tag = LilyPondCommand(r\"tag #'cello\", format_slot='before')\r\n",
      "        attach(cello_tag, cello_staff)\r\n",
      "        attach(Clef('bass'), cello_staff)\r\n",
      "        attach(instrumenttools.Cello(), cello_staff)\r\n",
      "        # Everything else\r\n",
      "        staff_group = StaffGroup(\r\n",
      "            [violin_staff, viola_staff, cello_staff],\r\n",
      "            name='Trio Staff Group',\r\n",
      "            )\r\n",
      "        score = Score(\r\n",
      "            [staff_group],\r\n",
      "            name='Trio Score',\r\n",
      "            )\r\n",
      "        return score\r\n"
     ]
    }
   ],
   "source": [
    "!cat trio_score/trio_score/tools/ScoreTemplate.py"
   ]
  },
  {
   "cell_type": "code",
   "execution_count": 9,
   "metadata": {
    "collapsed": false,
    "scrolled": true
   },
   "outputs": [
    {
     "name": "stdout",
     "output_type": "stream",
     "text": [
      "# -*- coding: utf-8 -*-\r\n",
      "import collections\r\n",
      "from abjad import Measure\r\n",
      "from abjad import MultimeasureRest\r\n",
      "from abjad import Multiplier\r\n",
      "from abjad import TimeSignature\r\n",
      "from abjad import Voice\r\n",
      "from abjad import attach\r\n",
      "from abjad import iterate\r\n",
      "from abjad import mutate\r\n",
      "from abjad.tools import lilypondfiletools\r\n",
      "from trio_score.tools import ScoreTemplate\r\n",
      "\r\n",
      "\r\n",
      "class SegmentMaker(object):\r\n",
      "\r\n",
      "    def __init__(\r\n",
      "        self,\r\n",
      "        time_signatures=None,\r\n",
      "        violin_pitches=None,\r\n",
      "        violin_rhythm_maker=None,\r\n",
      "        violin_seed=None,\r\n",
      "        viola_pitches=None,\r\n",
      "        viola_rhythm_maker=None,\r\n",
      "        viola_seed=None,\r\n",
      "        cello_pitches=None,\r\n",
      "        cello_rhythm_maker=None,\r\n",
      "        cello_seed=None,\r\n",
      "        is_last_segment=False,\r\n",
      "        ):\r\n",
      "        time_signatures = [TimeSignature(_) for _ in time_signatures]\r\n",
      "        assert len(time_signatures)\r\n",
      "        self.time_signatures = time_signatures\r\n",
      "        self.violin_pitches = violin_pitches\r\n",
      "        self.violin_rhythm_maker = violin_rhythm_maker\r\n",
      "        self.violin_seed = violin_seed\r\n",
      "        self.viola_pitches = viola_pitches\r\n",
      "        self.viola_rhythm_maker = viola_rhythm_maker\r\n",
      "        self.viola_seed = viola_seed\r\n",
      "        self.cello_pitches = cello_pitches\r\n",
      "        self.cello_rhythm_maker = cello_rhythm_maker\r\n",
      "        self.cello_seed = cello_seed\r\n",
      "        self.score_template = ScoreTemplate()\r\n",
      "        self.is_last_segment = bool(is_last_segment)\r\n",
      "\r\n",
      "    def __call__(\r\n",
      "        self,\r\n",
      "        segment_metadata=None,\r\n",
      "        previous_segment_metadata=None,\r\n",
      "        ):\r\n",
      "        score = self.score_template()\r\n",
      "        violin_measures = self._make_measures(\r\n",
      "            self.time_signatures,\r\n",
      "            self.violin_rhythm_maker,\r\n",
      "            self.violin_pitches,\r\n",
      "            self.violin_seed,\r\n",
      "            )\r\n",
      "        score['Violin Voice'].extend(violin_measures)\r\n",
      "        viola_measures = self._make_measures(\r\n",
      "            self.time_signatures,\r\n",
      "            self.viola_rhythm_maker,\r\n",
      "            self.viola_pitches,\r\n",
      "            self.viola_seed,\r\n",
      "            )\r\n",
      "        score['Viola Voice'].extend(viola_measures)\r\n",
      "        cello_measures = self._make_measures(\r\n",
      "            self.time_signatures,\r\n",
      "            self.cello_rhythm_maker,\r\n",
      "            self.cello_pitches,\r\n",
      "            self.cello_seed,\r\n",
      "            )\r\n",
      "        score['Cello Voice'].extend(cello_measures)\r\n",
      "        if self.is_last_segment:\r\n",
      "            score.add_final_bar_line('|.', to_each_voice=True)\r\n",
      "        else:\r\n",
      "            score.add_final_bar_line('||', to_each_voice=True)\r\n",
      "        lilypond_file = lilypondfiletools.make_basic_lilypond_file(\r\n",
      "            score,\r\n",
      "            includes=['../../stylesheets/stylesheet.ily'],\r\n",
      "            )\r\n",
      "        return lilypond_file, segment_metadata\r\n",
      "\r\n",
      "    def _make_measures(self, time_signatures, rhythm_maker, pitches, seed):\r\n",
      "        seed = seed or 0\r\n",
      "        measures = Voice()\r\n",
      "        for time_signature in time_signatures:\r\n",
      "            multimeasure_rest = MultimeasureRest(1)\r\n",
      "            multiplier = Multiplier(time_signature)\r\n",
      "            attach(multiplier, multimeasure_rest)\r\n",
      "            measures.append(Measure(time_signature, [multimeasure_rest]))\r\n",
      "        if rhythm_maker is not None:\r\n",
      "            divisions = rhythm_maker(time_signatures, rotation=seed)\r\n",
      "            mutate(measures).replace_measure_contents(divisions)\r\n",
      "        if pitches is not None:\r\n",
      "            if not isinstance(pitches, collections.Iterable):\r\n",
      "                pitches = [pitches]\r\n",
      "            iterator = iterate(measures).by_logical_tie(pitched=True)\r\n",
      "            iterator = enumerate(iterator, seed)\r\n",
      "            for i, logical_tie in iterator:\r\n",
      "                pitch = pitches[i % len(pitches)]\r\n",
      "                for leaf in logical_tie:\r\n",
      "                    leaf.written_pitch = pitch\r\n",
      "        return measures\r\n"
     ]
    }
   ],
   "source": [
    "!cat trio_score/trio_score/tools/SegmentMaker.py"
   ]
  },
  {
   "cell_type": "markdown",
   "metadata": {},
   "source": [
    "## Segments\n",
    "\n",
    "A segment is a contiguous block of temporal compositional concern. Basically, a chunk of music.\n",
    "\n",
    "We've established that we can concatenate score together. That means we can concatenate the output of segments together.\n",
    "\n",
    "But why? There's no reason you have to work with more than one segment. But, with experience, there's only so many details a human can focus on at once. As the contents of your segment become increasingly complicated, you'll have trouble reasoning about what's happening in your segment. If your segment is very long, you may also experience long waits for Abjad and LilyPond to do their work.\n",
    "\n",
    "By splitting a score into at least a few segments, you both ease your cognitive burden and also speed up the cycle of composing and illustrating."
   ]
  },
  {
   "cell_type": "code",
   "execution_count": 10,
   "metadata": {
    "collapsed": false,
    "scrolled": true
   },
   "outputs": [
    {
     "name": "stdout",
     "output_type": "stream",
     "text": [
      "trio_score/trio_score/segments/\r\n",
      "├── __init__.py\r\n",
      "├── __pycache__/\r\n",
      "├── section_one/\r\n",
      "├── section_three/\r\n",
      "└── section_two/\r\n",
      "\r\n",
      "4 directories, 1 file\r\n"
     ]
    }
   ],
   "source": [
    "!tree -F -L 1 trio_score/trio_score/segments/"
   ]
  },
  {
   "cell_type": "code",
   "execution_count": 11,
   "metadata": {
    "collapsed": false
   },
   "outputs": [
    {
     "name": "stdout",
     "output_type": "stream",
     "text": [
      "trio_score/trio_score/segments/section_one/\r\n",
      "├── __init__.py\r\n",
      "├── definition.py\r\n",
      "├── illustration.ly\r\n",
      "└── illustration.pdf\r\n",
      "\r\n",
      "0 directories, 4 files\r\n"
     ]
    }
   ],
   "source": [
    "!tree -F -L 1 trio_score/trio_score/segments/section_one/"
   ]
  },
  {
   "cell_type": "markdown",
   "metadata": {},
   "source": [
    "What's inside a segment definition? A configured instance of the `SegmentMaker` class from our `tools/` directory:"
   ]
  },
  {
   "cell_type": "code",
   "execution_count": 12,
   "metadata": {
    "collapsed": false,
    "scrolled": true
   },
   "outputs": [
    {
     "name": "stdout",
     "output_type": "stream",
     "text": [
      "# -*- encoding: utf-8 -*-\r\n",
      "import os\r\n",
      "import abjad\r\n",
      "from trio_score import materials\r\n",
      "from trio_score.tools import SegmentMaker\r\n",
      "\r\n",
      "\r\n",
      "segment_maker = SegmentMaker(\r\n",
      "    time_signatures=[(4, 4), (3, 4), (5, 4)] * 2,\r\n",
      "    cello_pitches=materials.my_pitches.transpose(-12),\r\n",
      "    cello_rhythm_maker=materials.my_slow_rhythm_maker,\r\n",
      "    cello_seed=0,\r\n",
      "    viola_pitches=materials.my_pitches,\r\n",
      "    viola_rhythm_maker=materials.my_fast_rhythm_maker,\r\n",
      "    viola_seed=1,\r\n",
      "    violin_pitches=materials.my_pitches,\r\n",
      "    violin_rhythm_maker=abjad.new(\r\n",
      "        materials.my_fast_rhythm_maker,\r\n",
      "        talea__counts=[1, 1, 1, 2, -3, 1, 1, 2, -2, 1, -3],\r\n",
      "        ),\r\n",
      "    violin_seed=0,\r\n",
      "    )\r\n",
      "\r\n",
      "\r\n",
      "if __name__ == '__main__':\r\n",
      "    lilypond_file, _ = segment_maker()\r\n",
      "    illustration_path = os.path.join(\r\n",
      "        os.path.dirname(__file__),\r\n",
      "        'illustration.pdf',\r\n",
      "        )\r\n",
      "    abjad.persist(lilypond_file).as_pdf(illustration_path)\r\n",
      "    abjad.systemtools.IOManager.open_file(illustration_path)\r\n"
     ]
    }
   ],
   "source": [
    "!cat trio_score/trio_score/segments/section_one/definition.py"
   ]
  },
  {
   "cell_type": "markdown",
   "metadata": {},
   "source": [
    "Note that we have the same `if __name__ == 'main':` block here. The segment definition is illustratable just like the material definitions before."
   ]
  },
  {
   "cell_type": "markdown",
   "metadata": {},
   "source": [
    "## Stylesheets"
   ]
  },
  {
   "cell_type": "code",
   "execution_count": 13,
   "metadata": {
    "collapsed": false
   },
   "outputs": [
    {
     "name": "stdout",
     "output_type": "stream",
     "text": [
      "trio_score/trio_score/stylesheets/\r\n",
      "├── nonfirst-segment.ily\r\n",
      "├── parts.ily\r\n",
      "└── stylesheet.ily\r\n",
      "\r\n",
      "0 directories, 3 files\r\n"
     ]
    }
   ],
   "source": [
    "!tree -F trio_score/trio_score/stylesheets/"
   ]
  },
  {
   "cell_type": "code",
   "execution_count": 14,
   "metadata": {
    "collapsed": false,
    "scrolled": true
   },
   "outputs": [
    {
     "name": "stdout",
     "output_type": "stream",
     "text": [
      "#(set-default-paper-size \"letter\" 'portrait)\r\n",
      "#(set-global-staff-size 12)\r\n",
      "\r\n",
      "\\header {\r\n",
      "}\r\n",
      "\r\n",
      "\\paper {\r\n",
      "}\r\n",
      "\r\n",
      "\\layout {\r\n",
      "    \\context {\r\n",
      "        \\Staff \r\n",
      "        \\name ViolinStaff\r\n",
      "        \\type Engraver_group\r\n",
      "        \\alias Staff\r\n",
      "    }\r\n",
      "    \\context {\r\n",
      "        \\Staff \r\n",
      "        \\name ViolaStaff\r\n",
      "        \\type Engraver_group\r\n",
      "        \\alias Staff\r\n",
      "    }\r\n",
      "    \\context {\r\n",
      "        \\Staff \r\n",
      "        \\name CelloStaff\r\n",
      "        \\type Engraver_group\r\n",
      "        \\alias Staff\r\n",
      "    }\r\n",
      "    \\context {\r\n",
      "        \\StaffGroup\r\n",
      "        \\accepts ViolinStaff\r\n",
      "        \\accepts ViolaStaff\r\n",
      "        \\accepts CelloStaff\r\n",
      "        \\override SpacingSpanner.base-shortest-duration = #(ly:make-moment 1 16)\r\n",
      "        \\override SpacingSpanner.uniform-stretching = ##t\r\n",
      "        \\override TimeSignature.style = #'numbered\r\n",
      "        autoBeaming = ##f\r\n",
      "        proportionalNotationDuration = #(ly:make-moment 1 16)\r\n",
      "        tupletFullLength = ##t\r\n",
      "    }\r\n",
      "}\r\n"
     ]
    }
   ],
   "source": [
    "!cat trio_score/trio_score/stylesheets/stylesheet.ily"
   ]
  },
  {
   "cell_type": "code",
   "execution_count": 15,
   "metadata": {
    "collapsed": false
   },
   "outputs": [
    {
     "name": "stdout",
     "output_type": "stream",
     "text": [
      "\\paper {\r\n",
      "}\r\n",
      "\r\n",
      "\\layout {\r\n",
      "}"
     ]
    }
   ],
   "source": [
    "!cat trio_score/trio_score/stylesheets/parts.ily"
   ]
  },
  {
   "cell_type": "markdown",
   "metadata": {},
   "source": [
    "## The build directory\n",
    "\n",
    "The `build/` directory is where we put our document together: the front and back covers, the guts of the score, performance notes and parts.\n",
    "\n",
    "This area relies on more complex include logic than we've seen before, but nothing too complicated."
   ]
  },
  {
   "cell_type": "code",
   "execution_count": 16,
   "metadata": {
    "collapsed": false
   },
   "outputs": [
    {
     "name": "stdout",
     "output_type": "stream",
     "text": [
      "trio_score/trio_score/build/\r\n",
      "├── assets/\r\n",
      "│   ├── instrumentation.tex\r\n",
      "│   └── performance-notes.tex\r\n",
      "├── letter-portrait/\r\n",
      "│   ├── Makefile\r\n",
      "│   ├── back-cover.tex\r\n",
      "│   ├── front-cover.tex\r\n",
      "│   ├── music.ly\r\n",
      "│   ├── music.pdf\r\n",
      "│   ├── parts-cello.pdf\r\n",
      "│   ├── parts-viola.pdf\r\n",
      "│   ├── parts-violin.pdf\r\n",
      "│   ├── parts.ly\r\n",
      "│   ├── preface.tex\r\n",
      "│   └── score.tex\r\n",
      "├── parts.ily\r\n",
      "├── segments/\r\n",
      "│   ├── section-one.ily\r\n",
      "│   ├── section-three.ily\r\n",
      "│   └── section-two.ily\r\n",
      "└── segments.ily\r\n",
      "\r\n",
      "3 directories, 18 files\r\n"
     ]
    }
   ],
   "source": [
    "!tree -F trio_score/trio_score/build/"
   ]
  },
  {
   "cell_type": "code",
   "execution_count": 17,
   "metadata": {
    "collapsed": false
   },
   "outputs": [
    {
     "name": "stdout",
     "output_type": "stream",
     "text": [
      "{\r\n",
      "    \\include \"segments/section-one.ily\"\r\n",
      "    \\include \"segments/section-two.ily\"\r\n",
      "    \\include \"segments/section-three.ily\"\r\n",
      "}\r\n"
     ]
    }
   ],
   "source": [
    "!cat trio_score/trio_score/build/segments.ily"
   ]
  },
  {
   "cell_type": "code",
   "execution_count": 18,
   "metadata": {
    "collapsed": false
   },
   "outputs": [
    {
     "name": "stdout",
     "output_type": "stream",
     "text": [
      "\\book {\r\n",
      "    \\bookOutputSuffix \"violin\"\r\n",
      "    \\score {\r\n",
      "        \\keepWithTag #'(violin)\r\n",
      "        \\include \"../segments.ily\"\r\n",
      "    }\r\n",
      "}\r\n",
      "\r\n",
      "\\book {\r\n",
      "    \\bookOutputSuffix \"viola\"\r\n",
      "    \\score {\r\n",
      "        \\keepWithTag #'(viola)\r\n",
      "        \\include \"../segments.ily\"\r\n",
      "    }\r\n",
      "}\r\n",
      "\r\n",
      "\\book {\r\n",
      "    \\bookOutputSuffix \"cello\"\r\n",
      "    \\score {\r\n",
      "        \\keepWithTag #'(cello)\r\n",
      "        \\include \"../segments.ily\"\r\n",
      "    }\r\n",
      "}\r\n"
     ]
    }
   ],
   "source": [
    "!cat trio_score/trio_score/build/parts.ily"
   ]
  },
  {
   "cell_type": "markdown",
   "metadata": {},
   "source": [
    "## Anatomy of a build target"
   ]
  },
  {
   "cell_type": "code",
   "execution_count": 19,
   "metadata": {
    "collapsed": false
   },
   "outputs": [
    {
     "name": "stdout",
     "output_type": "stream",
     "text": [
      "trio_score/trio_score/build/letter-portrait/\r\n",
      "├── Makefile\r\n",
      "├── back-cover.tex\r\n",
      "├── front-cover.tex\r\n",
      "├── music.ly\r\n",
      "├── music.pdf\r\n",
      "├── parts-cello.pdf\r\n",
      "├── parts-viola.pdf\r\n",
      "├── parts-violin.pdf\r\n",
      "├── parts.ly\r\n",
      "├── preface.tex\r\n",
      "└── score.tex\r\n",
      "\r\n",
      "0 directories, 11 files\r\n"
     ]
    }
   ],
   "source": [
    "!tree -F trio_score/trio_score/build/letter-portrait/"
   ]
  },
  {
   "cell_type": "markdown",
   "metadata": {},
   "source": [
    "## Other directories\n",
    "\n",
    "There are three other directories in our score project: `distribution/`, `etc/` and `test/`.\n",
    "\n",
    "We use `etc/` to keep any notes or plans about the piece as we're writing it.\n",
    "\n",
    "We use `test/` to house any tests for our score - typically just illustrating every material and segment in the project and checking that nothing broke during the process.\n",
    "\n",
    "Finally, we use `distribution/` for housing the PDFs that are ready to be zipped-up and mailed out to any performer or ensemble who wants to play our music."
   ]
  },
  {
   "cell_type": "code",
   "execution_count": 20,
   "metadata": {
    "collapsed": false
   },
   "outputs": [
    {
     "name": "stdout",
     "output_type": "stream",
     "text": [
      "trio_score/trio_score/distribution/\r\n",
      "\r\n",
      "0 directories, 0 files\r\n"
     ]
    }
   ],
   "source": [
    "!tree -F trio_score/trio_score/distribution/"
   ]
  },
  {
   "cell_type": "code",
   "execution_count": 21,
   "metadata": {
    "collapsed": false
   },
   "outputs": [
    {
     "name": "stdout",
     "output_type": "stream",
     "text": [
      "trio_score/trio_score/etc/\r\n",
      "\r\n",
      "0 directories, 0 files\r\n"
     ]
    }
   ],
   "source": [
    "!tree -F trio_score/trio_score/etc/"
   ]
  },
  {
   "cell_type": "code",
   "execution_count": 22,
   "metadata": {
    "collapsed": false
   },
   "outputs": [
    {
     "name": "stdout",
     "output_type": "stream",
     "text": [
      "trio_score/trio_score/test/\r\n",
      "├── test_materials.py\r\n",
      "└── test_segments.py\r\n",
      "\r\n",
      "0 directories, 2 files\r\n"
     ]
    }
   ],
   "source": [
    "!tree -F trio_score/trio_score/test/"
   ]
  },
  {
   "cell_type": "markdown",
   "metadata": {},
   "source": [
    "## Putting it all together"
   ]
  },
  {
   "cell_type": "code",
   "execution_count": 23,
   "metadata": {
    "collapsed": false,
    "scrolled": true
   },
   "outputs": [
    {
     "name": "stdout",
     "output_type": "stream",
     "text": [
      "trio_score/\r\n",
      "├── README.md\r\n",
      "├── requirements.txt\r\n",
      "├── setup.cfg\r\n",
      "├── setup.py\r\n",
      "├── trio_score/\r\n",
      "│   ├── Makefile\r\n",
      "│   ├── __init__.py\r\n",
      "│   ├── __pycache__/\r\n",
      "│   │   └── __init__.cpython-35.pyc\r\n",
      "│   ├── build/\r\n",
      "│   │   ├── assets/\r\n",
      "│   │   │   ├── instrumentation.tex\r\n",
      "│   │   │   └── performance-notes.tex\r\n",
      "│   │   ├── letter-portrait/\r\n",
      "│   │   │   ├── Makefile\r\n",
      "│   │   │   ├── back-cover.tex\r\n",
      "│   │   │   ├── front-cover.tex\r\n",
      "│   │   │   ├── music.ly\r\n",
      "│   │   │   ├── music.pdf\r\n",
      "│   │   │   ├── parts-cello.pdf\r\n",
      "│   │   │   ├── parts-viola.pdf\r\n",
      "│   │   │   ├── parts-violin.pdf\r\n",
      "│   │   │   ├── parts.ly\r\n",
      "│   │   │   ├── preface.tex\r\n",
      "│   │   │   └── score.tex\r\n",
      "│   │   ├── parts.ily\r\n",
      "│   │   ├── segments/\r\n",
      "│   │   │   ├── section-one.ily\r\n",
      "│   │   │   ├── section-three.ily\r\n",
      "│   │   │   └── section-two.ily\r\n",
      "│   │   └── segments.ily\r\n",
      "│   ├── distribution/\r\n",
      "│   ├── etc/\r\n",
      "│   ├── materials/\r\n",
      "│   │   ├── __init__.py\r\n",
      "│   │   ├── __pycache__/\r\n",
      "│   │   │   └── __init__.cpython-35.pyc\r\n",
      "│   │   ├── my_fast_rhythm_maker/\r\n",
      "│   │   │   ├── __init__.py\r\n",
      "│   │   │   ├── __pycache__/\r\n",
      "│   │   │   │   ├── __init__.cpython-35.pyc\r\n",
      "│   │   │   │   └── definition.cpython-35.pyc\r\n",
      "│   │   │   ├── definition.py\r\n",
      "│   │   │   ├── illustration.ly\r\n",
      "│   │   │   └── illustration.pdf\r\n",
      "│   │   ├── my_pitches/\r\n",
      "│   │   │   ├── __init__.py\r\n",
      "│   │   │   ├── __pycache__/\r\n",
      "│   │   │   │   ├── __init__.cpython-35.pyc\r\n",
      "│   │   │   │   └── definition.cpython-35.pyc\r\n",
      "│   │   │   ├── definition.py\r\n",
      "│   │   │   ├── illustration.ly\r\n",
      "│   │   │   └── illustration.pdf\r\n",
      "│   │   └── my_slow_rhythm_maker/\r\n",
      "│   │       ├── __init__.py\r\n",
      "│   │       ├── __pycache__/\r\n",
      "│   │       │   ├── __init__.cpython-35.pyc\r\n",
      "│   │       │   └── definition.cpython-35.pyc\r\n",
      "│   │       ├── definition.py\r\n",
      "│   │       ├── illustration.ly\r\n",
      "│   │       └── illustration.pdf\r\n",
      "│   ├── segments/\r\n",
      "│   │   ├── __init__.py\r\n",
      "│   │   ├── __pycache__/\r\n",
      "│   │   │   └── __init__.cpython-35.pyc\r\n",
      "│   │   ├── section_one/\r\n",
      "│   │   │   ├── __init__.py\r\n",
      "│   │   │   ├── definition.py\r\n",
      "│   │   │   ├── illustration.ly\r\n",
      "│   │   │   └── illustration.pdf\r\n",
      "│   │   ├── section_three/\r\n",
      "│   │   │   ├── __init__.py\r\n",
      "│   │   │   ├── definition.py\r\n",
      "│   │   │   ├── illustration.ly\r\n",
      "│   │   │   └── illustration.pdf\r\n",
      "│   │   └── section_two/\r\n",
      "│   │       ├── __init__.py\r\n",
      "│   │       ├── definition.py\r\n",
      "│   │       ├── illustration.ly\r\n",
      "│   │       └── illustration.pdf\r\n",
      "│   ├── stylesheets/\r\n",
      "│   │   ├── nonfirst-segment.ily\r\n",
      "│   │   ├── parts.ily\r\n",
      "│   │   └── stylesheet.ily\r\n",
      "│   ├── test/\r\n",
      "│   │   ├── test_materials.py\r\n",
      "│   │   └── test_segments.py\r\n",
      "│   └── tools/\r\n",
      "│       ├── ScoreTemplate.py\r\n",
      "│       ├── SegmentMaker.py\r\n",
      "│       ├── __init__.py\r\n",
      "│       └── __pycache__/\r\n",
      "│           ├── ScoreTemplate.cpython-35.pyc\r\n",
      "│           ├── SegmentMaker.cpython-35.pyc\r\n",
      "│           └── __init__.cpython-35.pyc\r\n",
      "└── trio_score.egg-info/\r\n",
      "    ├── PKG-INFO\r\n",
      "    ├── SOURCES.txt\r\n",
      "    ├── dependency_links.txt\r\n",
      "    ├── not-zip-safe\r\n",
      "    ├── requires.txt\r\n",
      "    └── top_level.txt\r\n",
      "\r\n",
      "26 directories, 76 files\r\n"
     ]
    }
   ],
   "source": [
    "!tree -F trio_score/"
   ]
  },
  {
   "cell_type": "code",
   "execution_count": null,
   "metadata": {
    "collapsed": true
   },
   "outputs": [],
   "source": []
  }
 ],
 "metadata": {
  "kernelspec": {
   "display_name": "Python 3",
   "language": "python",
   "name": "python3"
  },
  "language_info": {
   "codemirror_mode": {
    "name": "ipython",
    "version": 3
   },
   "file_extension": ".py",
   "mimetype": "text/x-python",
   "name": "python",
   "nbconvert_exporter": "python",
   "pygments_lexer": "ipython3",
   "version": "3.5.1"
  }
 },
 "nbformat": 4,
 "nbformat_minor": 0
}
